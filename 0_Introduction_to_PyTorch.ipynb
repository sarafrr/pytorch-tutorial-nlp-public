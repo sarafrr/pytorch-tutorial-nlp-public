{
  "nbformat": 4,
  "nbformat_minor": 0,
  "metadata": {
    "colab": {
      "provenance": []
    },
    "kernelspec": {
      "name": "python3",
      "display_name": "Python 3"
    },
    "language_info": {
      "name": "python"
    }
  },
  "cells": [
    {
      "cell_type": "code",
      "execution_count": null,
      "metadata": {
        "id": "euona4jPy8Ca"
      },
      "outputs": [],
      "source": [
        "import torch\n",
        "import numpy as np"
      ]
    },
    {
      "cell_type": "code",
      "source": [
        "torch.__version__"
      ],
      "metadata": {
        "colab": {
          "base_uri": "https://localhost:8080/",
          "height": 35
        },
        "id": "lv8qtl03zI3W",
        "outputId": "7451bd31-4b29-4d64-bd41-75f875fc2c80"
      },
      "execution_count": null,
      "outputs": [
        {
          "output_type": "execute_result",
          "data": {
            "text/plain": [
              "'2.0.1+cu118'"
            ],
            "application/vnd.google.colaboratory.intrinsic+json": {
              "type": "string"
            }
          },
          "metadata": {},
          "execution_count": 2
        }
      ]
    },
    {
      "cell_type": "code",
      "source": [
        "arr = np.array([1,2,3,4,5])\n",
        "print(arr)\n",
        "print(arr.dtype)\n",
        "print(type(arr))"
      ],
      "metadata": {
        "colab": {
          "base_uri": "https://localhost:8080/"
        },
        "id": "2lJz2CElzNvl",
        "outputId": "389f06ad-c062-4790-c162-a71ffc47df41"
      },
      "execution_count": null,
      "outputs": [
        {
          "output_type": "stream",
          "name": "stdout",
          "text": [
            "[1 2 3 4 5]\n",
            "int64\n",
            "<class 'numpy.ndarray'>\n"
          ]
        }
      ]
    },
    {
      "cell_type": "markdown",
      "source": [
        "# Pass from NumPy to Tensor\n",
        "Pay attention that these share the same area of memory."
      ],
      "metadata": {
        "id": "pxSjI82OzROd"
      }
    },
    {
      "cell_type": "code",
      "source": [
        "x = torch.from_numpy(arr)\n",
        "x = torch.as_tensor(arr)\n",
        "x[0]=-100\n",
        "\n",
        "# x and arr share the same area of memory\n",
        "print(x)\n",
        "print(arr)"
      ],
      "metadata": {
        "colab": {
          "base_uri": "https://localhost:8080/"
        },
        "id": "5Ir_bQThzUKM",
        "outputId": "f87653ff-b032-4d61-c1c8-c3d565bc0da5"
      },
      "execution_count": null,
      "outputs": [
        {
          "output_type": "stream",
          "name": "stdout",
          "text": [
            "tensor([-100,    2,    3,    4,    5])\n",
            "[-100    2    3    4    5]\n"
          ]
        }
      ]
    },
    {
      "cell_type": "code",
      "source": [
        "print(type(x))\n",
        "print(x.type()) # this is more specific!"
      ],
      "metadata": {
        "colab": {
          "base_uri": "https://localhost:8080/"
        },
        "id": "-FnufACkzbmb",
        "outputId": "8d6e5555-4488-4555-f51d-4f2cffb3d149"
      },
      "execution_count": null,
      "outputs": [
        {
          "output_type": "stream",
          "name": "stdout",
          "text": [
            "<class 'torch.Tensor'>\n",
            "torch.LongTensor\n"
          ]
        }
      ]
    },
    {
      "cell_type": "markdown",
      "source": [
        "<h2><a href='https://pytorch.org/docs/stable/tensors.html'>Tensor Datatypes</a></h2>\n",
        "<table style=\"display: inline-block\">\n",
        "<tr><th>TYPE</th><th>NAME</th><th>EQUIVALENT</th><th>TENSOR TYPE</th></tr>\n",
        "<tr><td>32-bit integer (signed)</td><td>torch.int32</td><td>torch.int</td><td>IntTensor</td></tr>\n",
        "<tr><td>64-bit integer (signed)</td><td>torch.int64</td><td>torch.long</td><td>LongTensor</td></tr>\n",
        "<tr><td>16-bit integer (signed)</td><td>torch.int16</td><td>torch.short</td><td>ShortTensor</td></tr>\n",
        "<tr><td>32-bit floating point</td><td>torch.float32</td><td>torch.float</td><td>FloatTensor</td></tr>\n",
        "<tr><td>64-bit floating point</td><td>torch.float64</td><td>torch.double</td><td>DoubleTensor</td></tr>\n",
        "<tr><td>16-bit floating point</td><td>torch.float16</td><td>torch.half</td><td>HalfTensor</td></tr>\n",
        "<tr><td>8-bit integer (signed)</td><td>torch.int8</td><td></td><td>CharTensor</td></tr>\n",
        "<tr><td>8-bit integer (unsigned)</td><td>torch.uint8</td><td></td><td>ByteTensor</td></tr></table>"
      ],
      "metadata": {
        "id": "IjVrYDaq0CDz"
      }
    },
    {
      "cell_type": "markdown",
      "source": [
        "# Creating tensors from scratch\n",
        "It is possible to use the factory function `torch.tensor` to create a tensor that has its own memory area (copy constructor).\n",
        "If you do not pass the parameter of the data type `dtype`, you can use the specific constructors of the specific classes of the type. If you do not specify the data type, it is inferred by the input data."
      ],
      "metadata": {
        "id": "6OhPjE9T0R9T"
      }
    },
    {
      "cell_type": "code",
      "source": [
        "# to create a tensor from scratch\n",
        "l = [1,2,3,4]\n",
        "tensor = torch.tensor(l)\n",
        "print(tensor)\n",
        "print(tensor.dtype)\n",
        "ftensor = torch.Tensor(l)\n",
        "print(ftensor)\n",
        "print(ftensor.dtype)\n",
        "# we can change the data type of a given tensor\n",
        "itensor = ftensor.type(torch.int64)\n",
        "print(itensor.dtype)"
      ],
      "metadata": {
        "colab": {
          "base_uri": "https://localhost:8080/"
        },
        "id": "hqtWt6OP0E55",
        "outputId": "893544a1-d259-47c6-dc5b-1989dc1c8c7f"
      },
      "execution_count": null,
      "outputs": [
        {
          "output_type": "stream",
          "name": "stdout",
          "text": [
            "tensor([1, 2, 3, 4])\n",
            "torch.int64\n",
            "tensor([1., 2., 3., 4.])\n",
            "torch.float32\n",
            "torch.int64\n"
          ]
        }
      ]
    },
    {
      "cell_type": "markdown",
      "source": [
        "# Main attributes of a PyTorch tensor"
      ],
      "metadata": {
        "id": "eQyPTfgR3Nkb"
      }
    },
    {
      "cell_type": "code",
      "source": [
        "print(tensor.shape)\n",
        "print(tensor.size()) # equivalent to tensor.shape\n",
        "print(tensor.device)"
      ],
      "metadata": {
        "colab": {
          "base_uri": "https://localhost:8080/"
        },
        "id": "WPlbYY5d3NKi",
        "outputId": "efdf5580-98f2-4fab-eddd-0a6f8b1fc416"
      },
      "execution_count": null,
      "outputs": [
        {
          "output_type": "stream",
          "name": "stdout",
          "text": [
            "torch.Size([4])\n",
            "torch.Size([4])\n",
            "cpu\n"
          ]
        }
      ]
    },
    {
      "cell_type": "code",
      "source": [
        "size = (3,4)\n",
        "x = torch.empty(size)\n",
        "print(x)\n",
        "x = torch.zeros(size)\n",
        "print(x)\n",
        "x = torch.ones(size)\n",
        "print(x)"
      ],
      "metadata": {
        "colab": {
          "base_uri": "https://localhost:8080/"
        },
        "id": "DGte-9-O1O8D",
        "outputId": "457c44e5-0370-43b5-e5f6-8a488a3dc80b"
      },
      "execution_count": null,
      "outputs": [
        {
          "output_type": "stream",
          "name": "stdout",
          "text": [
            "tensor([[2.1707e-18, 7.0952e+22, 1.7748e+28, 1.8176e+31],\n",
            "        [7.2708e+31, 5.0778e+31, 3.2608e-12, 1.7728e+28],\n",
            "        [7.0367e+22, 2.1715e-18, 1.3370e+22, 2.7004e-06]])\n",
            "tensor([[0., 0., 0., 0.],\n",
            "        [0., 0., 0., 0.],\n",
            "        [0., 0., 0., 0.]])\n",
            "tensor([[1., 1., 1., 1.],\n",
            "        [1., 1., 1., 1.],\n",
            "        [1., 1., 1., 1.]])\n"
          ]
        }
      ]
    },
    {
      "cell_type": "markdown",
      "source": [
        "### Tensors from ranges\n",
        "<a href='https://pytorch.org/docs/stable/torch.html#torch.arange'><strong><tt>torch.arange(start,end,step)</tt></strong></a><br>\n",
        "<a href='https://pytorch.org/docs/stable/torch.html#torch.linspace'><strong><tt>torch.linspace(start,end,n. steps)</tt></strong></a><br>\n",
        "Note that with <tt>.arange()</tt>, <tt>end</tt> is exclusive, while with <tt>linspace()</tt>, <tt>end</tt> is inclusive."
      ],
      "metadata": {
        "id": "voUR71T21oB0"
      }
    },
    {
      "cell_type": "code",
      "source": [
        "x = torch.arange(0,18,2).reshape(3,3)\n",
        "print(x)\n",
        "x = torch.linspace(0,18,7)\n",
        "print(x)\n",
        "x = x.type(torch.int64)\n",
        "print(x)"
      ],
      "metadata": {
        "colab": {
          "base_uri": "https://localhost:8080/"
        },
        "id": "pKhfHK-o1pid",
        "outputId": "41eb0d6d-a54a-41a7-c7c5-17cdd71760d1"
      },
      "execution_count": null,
      "outputs": [
        {
          "output_type": "stream",
          "name": "stdout",
          "text": [
            "tensor([[ 0,  2,  4],\n",
            "        [ 6,  8, 10],\n",
            "        [12, 14, 16]])\n",
            "tensor([ 0.,  3.,  6.,  9., 12., 15., 18.])\n",
            "tensor([ 0,  3,  6,  9, 12, 15, 18])\n"
          ]
        }
      ]
    },
    {
      "cell_type": "markdown",
      "source": [
        "### Random number tensors\n",
        "<a href='https://pytorch.org/docs/stable/torch.html#torch.rand'><strong><tt>torch.rand(size)</tt></strong></a> returns random samples from a uniform distribution over [0, 1)<br>\n",
        "<a href='https://pytorch.org/docs/stable/torch.html#torch.randn'><strong><tt>torch.randn(size)</tt></strong></a> returns samples from the \"standard normal\" distribution [σ = 1]<br>\n",
        "&nbsp;&nbsp;&nbsp;&nbsp;Unlike <tt>rand</tt> which is uniform, values closer to zero are more likely to appear.<br>\n",
        "<a href='https://pytorch.org/docs/stable/torch.html#torch.randint'><strong><tt>torch.randint(low,high,size)</tt></strong></a> returns random integers from low (inclusive) to high (exclusive)"
      ],
      "metadata": {
        "id": "IBGsay9x2zGl"
      }
    },
    {
      "cell_type": "code",
      "source": [
        "x = torch.rand(size)\n",
        "print(x)\n",
        "x = torch.randn(size)\n",
        "print(x)\n",
        "x = torch.randint(0,10,size)\n",
        "print(x)"
      ],
      "metadata": {
        "colab": {
          "base_uri": "https://localhost:8080/"
        },
        "id": "EwD5Xyd-20BC",
        "outputId": "55a33d54-8e1f-45bc-8cec-36fab23612b2"
      },
      "execution_count": null,
      "outputs": [
        {
          "output_type": "stream",
          "name": "stdout",
          "text": [
            "tensor([[0.7350, 0.7587, 0.5839, 0.7703],\n",
            "        [0.3406, 0.1213, 0.8057, 0.4215],\n",
            "        [0.0689, 0.7314, 0.4737, 0.2425]])\n",
            "tensor([[-0.5005,  1.3234,  0.2933, -0.4112],\n",
            "        [-0.3402, -1.8065, -0.2196, -1.5908],\n",
            "        [-0.5445, -1.0333, -1.2227,  0.5173]])\n",
            "tensor([[6, 1, 2, 0],\n",
            "        [4, 5, 9, 8],\n",
            "        [0, 9, 8, 4]])\n"
          ]
        }
      ]
    },
    {
      "cell_type": "markdown",
      "source": [
        "# (Some) main operations between tensors"
      ],
      "metadata": {
        "id": "XS7iN65R9lxe"
      }
    },
    {
      "cell_type": "code",
      "source": [
        "# addition\n",
        "a = torch.ones(3,3)\n",
        "b = torch.Tensor([1,2,3])\n",
        "# : means all the elements, you can use None to add an axis\n",
        "b = b[:,None]\n",
        "print(b.shape)\n",
        "o = torch.mm(a,b)\n",
        "print(o)\n",
        "\n",
        "o = a@b # equivalent to torch.mm(a,b)\n",
        "print(o)"
      ],
      "metadata": {
        "colab": {
          "base_uri": "https://localhost:8080/"
        },
        "id": "m0rctoQk9KBe",
        "outputId": "41305145-95af-49e7-c03f-69104e9c5b7d"
      },
      "execution_count": 14,
      "outputs": [
        {
          "output_type": "stream",
          "name": "stdout",
          "text": [
            "torch.Size([3, 1])\n",
            "tensor([[6.],\n",
            "        [6.],\n",
            "        [6.]])\n",
            "tensor([[6.],\n",
            "        [6.],\n",
            "        [6.]])\n"
          ]
        }
      ]
    },
    {
      "cell_type": "code",
      "source": [
        "# element-wise multiplication (Hadamarad product)\n",
        "o = a*b\n",
        "print(o)\n",
        "o = torch.mul(a, b)\n",
        "print(o)"
      ],
      "metadata": {
        "colab": {
          "base_uri": "https://localhost:8080/"
        },
        "id": "is6UPQ8S-Nfh",
        "outputId": "3f782cc5-5996-40d3-9c00-792eaee23860"
      },
      "execution_count": 15,
      "outputs": [
        {
          "output_type": "stream",
          "name": "stdout",
          "text": [
            "tensor([[1., 1., 1.],\n",
            "        [2., 2., 2.],\n",
            "        [3., 3., 3.]])\n",
            "tensor([[1., 1., 1.],\n",
            "        [2., 2., 2.],\n",
            "        [3., 3., 3.]])\n"
          ]
        }
      ]
    },
    {
      "cell_type": "code",
      "source": [
        "c = torch.arange(0,10,1)\n",
        "print(c.shape)\n",
        "# reshape a tensor by choosing 2 rows and let PyTorch infer the correct dimension\n",
        "# for the other axis\n",
        "c = c.view(2,-1)\n",
        "print(c)\n",
        "# permute the axes\n",
        "c = c.permute(1,0)\n",
        "print(c)"
      ],
      "metadata": {
        "colab": {
          "base_uri": "https://localhost:8080/"
        },
        "id": "PC_2VjarAO03",
        "outputId": "12960146-bd37-469c-962a-9bd160362dc1"
      },
      "execution_count": 23,
      "outputs": [
        {
          "output_type": "stream",
          "name": "stdout",
          "text": [
            "torch.Size([10])\n",
            "tensor([[0, 1, 2, 3, 4],\n",
            "        [5, 6, 7, 8, 9]])\n",
            "tensor([[0, 5],\n",
            "        [1, 6],\n",
            "        [2, 7],\n",
            "        [3, 8],\n",
            "        [4, 9]])\n"
          ]
        }
      ]
    }
  ]
}